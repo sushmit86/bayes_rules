{
 "cells": [
  {
   "cell_type": "code",
   "execution_count": 3,
   "id": "c7646550-f4e4-449f-98dd-d4f86974905e",
   "metadata": {},
   "outputs": [],
   "source": [
    "import pandas as pd\n",
    "import numpy as np\n",
    "import altair as alt\n",
    "from scipy.stats import beta"
   ]
  },
  {
   "cell_type": "code",
   "execution_count": 9,
   "id": "ae3f4a73-613c-4567-bca2-fa82fe74154c",
   "metadata": {},
   "outputs": [
    {
     "data": {
      "text/html": [
       "\n",
       "<style>\n",
       "  #altair-viz-0646c444921f4527b89e9d5c1d700e3b.vega-embed {\n",
       "    width: 100%;\n",
       "    display: flex;\n",
       "  }\n",
       "\n",
       "  #altair-viz-0646c444921f4527b89e9d5c1d700e3b.vega-embed details,\n",
       "  #altair-viz-0646c444921f4527b89e9d5c1d700e3b.vega-embed details summary {\n",
       "    position: relative;\n",
       "  }\n",
       "</style>\n",
       "<div id=\"altair-viz-0646c444921f4527b89e9d5c1d700e3b\"></div>\n",
       "<script type=\"text/javascript\">\n",
       "  var VEGA_DEBUG = (typeof VEGA_DEBUG == \"undefined\") ? {} : VEGA_DEBUG;\n",
       "  (function(spec, embedOpt){\n",
       "    let outputDiv = document.currentScript.previousElementSibling;\n",
       "    if (outputDiv.id !== \"altair-viz-0646c444921f4527b89e9d5c1d700e3b\") {\n",
       "      outputDiv = document.getElementById(\"altair-viz-0646c444921f4527b89e9d5c1d700e3b\");\n",
       "    }\n",
       "    const paths = {\n",
       "      \"vega\": \"https://cdn.jsdelivr.net/npm/vega@5?noext\",\n",
       "      \"vega-lib\": \"https://cdn.jsdelivr.net/npm/vega-lib?noext\",\n",
       "      \"vega-lite\": \"https://cdn.jsdelivr.net/npm/vega-lite@5.8.0?noext\",\n",
       "      \"vega-embed\": \"https://cdn.jsdelivr.net/npm/vega-embed@6?noext\",\n",
       "    };\n",
       "\n",
       "    function maybeLoadScript(lib, version) {\n",
       "      var key = `${lib.replace(\"-\", \"\")}_version`;\n",
       "      return (VEGA_DEBUG[key] == version) ?\n",
       "        Promise.resolve(paths[lib]) :\n",
       "        new Promise(function(resolve, reject) {\n",
       "          var s = document.createElement('script');\n",
       "          document.getElementsByTagName(\"head\")[0].appendChild(s);\n",
       "          s.async = true;\n",
       "          s.onload = () => {\n",
       "            VEGA_DEBUG[key] = version;\n",
       "            return resolve(paths[lib]);\n",
       "          };\n",
       "          s.onerror = () => reject(`Error loading script: ${paths[lib]}`);\n",
       "          s.src = paths[lib];\n",
       "        });\n",
       "    }\n",
       "\n",
       "    function showError(err) {\n",
       "      outputDiv.innerHTML = `<div class=\"error\" style=\"color:red;\">${err}</div>`;\n",
       "      throw err;\n",
       "    }\n",
       "\n",
       "    function displayChart(vegaEmbed) {\n",
       "      vegaEmbed(outputDiv, spec, embedOpt)\n",
       "        .catch(err => showError(`Javascript Error: ${err.message}<br>This usually means there's a typo in your chart specification. See the javascript console for the full traceback.`));\n",
       "    }\n",
       "\n",
       "    if(typeof define === \"function\" && define.amd) {\n",
       "      requirejs.config({paths});\n",
       "      require([\"vega-embed\"], displayChart, err => showError(`Error loading script: ${err.message}`));\n",
       "    } else {\n",
       "      maybeLoadScript(\"vega\", \"5\")\n",
       "        .then(() => maybeLoadScript(\"vega-lite\", \"5.8.0\"))\n",
       "        .then(() => maybeLoadScript(\"vega-embed\", \"6\"))\n",
       "        .catch(showError)\n",
       "        .then(() => displayChart(vegaEmbed));\n",
       "    }\n",
       "  })({\"config\": {\"view\": {\"continuousWidth\": 300, \"continuousHeight\": 300}}, \"layer\": [{\"data\": {\"name\": \"data-d9f4513efdc0cd1b59eaf7808008a196\"}, \"mark\": {\"type\": \"line\"}, \"encoding\": {\"x\": {\"field\": \"x\", \"type\": \"quantitative\"}, \"y\": {\"field\": \"f(x)\", \"type\": \"quantitative\"}}}, {\"data\": {\"name\": \"data-b9cb662b31c149c7d6b41c7b119085d7\"}, \"mark\": {\"type\": \"rule\"}, \"encoding\": {\"x\": {\"field\": \"threshold\", \"type\": \"quantitative\"}}}, {\"data\": {\"name\": \"data-da4d277671f21e1696173c923183b873\"}, \"mark\": {\"type\": \"text\", \"angle\": 0, \"text\": \"Population proportion\"}, \"encoding\": {\"x\": {\"field\": \"x\", \"type\": \"quantitative\"}, \"y\": {\"field\": \"y\", \"type\": \"quantitative\"}}}], \"height\": 400, \"title\": \"Beta distribution\", \"width\": 600, \"$schema\": \"https://vega.github.io/schema/vega-lite/v5.8.0.json\", \"datasets\": {\"data-d9f4513efdc0cd1b59eaf7808008a196\": [{\"x\": 0.36, \"f(x)\": 5.959590292882778e-06}, {\"x\": 0.3622784810126582, \"f(x)\": 1.3538136421797215e-05}, {\"x\": 0.36455696202531646, \"f(x)\": 3.001814087643802e-05}, {\"x\": 0.36683544303797466, \"f(x)\": 6.49775066221063e-05}, {\"x\": 0.3691139240506329, \"f(x)\": 0.00013733036955251884}, {\"x\": 0.37139240506329113, \"f(x)\": 0.0002834408549167471}, {\"x\": 0.37367088607594934, \"f(x)\": 0.0005713690971409648}, {\"x\": 0.3759493670886076, \"f(x)\": 0.0011251068014240507}, {\"x\": 0.3782278481012658, \"f(x)\": 0.002164491580559441}, {\"x\": 0.380506329113924, \"f(x)\": 0.0040687767025474435}, {\"x\": 0.3827848101265823, \"f(x)\": 0.007474403119866565}, {\"x\": 0.3850632911392405, \"f(x)\": 0.013419955074180515}, {\"x\": 0.38734177215189874, \"f(x)\": 0.02355282342915109}, {\"x\": 0.38962025316455695, \"f(x)\": 0.04041160347016118}, {\"x\": 0.3918987341772152, \"f(x)\": 0.06779420472488808}, {\"x\": 0.3941772151898734, \"f(x)\": 0.11121235080895868}, {\"x\": 0.3964556962025316, \"f(x)\": 0.17841708359686417}, {\"x\": 0.3987341772151899, \"f(x)\": 0.27995631171356655}, {\"x\": 0.4010126582278481, \"f(x)\": 0.42969511842270747}, {\"x\": 0.4032911392405063, \"f(x)\": 0.6451954817641283}, {\"x\": 0.40556962025316456, \"f(x)\": 0.9478200340151118}, {\"x\": 0.40784810126582277, \"f(x)\": 1.3624029871596957}, {\"x\": 0.41012658227848103, \"f(x)\": 1.9163306855519842}, {\"x\": 0.41240506329113924, \"f(x)\": 2.6379046412064073}, {\"x\": 0.41468354430379745, \"f(x)\": 3.5539286909319516}, {\"x\": 0.4169620253164557, \"f(x)\": 4.68657027199358}, {\"x\": 0.4192405063291139, \"f(x)\": 6.04968591453206}, {\"x\": 0.4215189873417722, \"f(x)\": 7.644954607435462}, {\"x\": 0.4237974683544304, \"f(x)\": 9.458301927464948}, {\"x\": 0.4260759493670886, \"f(x)\": 11.457189379446117}, {\"x\": 0.42835443037974685, \"f(x)\": 13.589355049641332}, {\"x\": 0.43063291139240506, \"f(x)\": 15.783500626893666}, {\"x\": 0.43291139240506327, \"f(x)\": 17.952220688201592}, {\"x\": 0.43518987341772153, \"f(x)\": 19.99718009891255}, {\"x\": 0.43746835443037974, \"f(x)\": 21.816204728480987}, {\"x\": 0.439746835443038, \"f(x)\": 23.31161733709374}, {\"x\": 0.4420253164556962, \"f(x)\": 24.39888913781513}, {\"x\": 0.44430379746835447, \"f(x)\": 25.014545588346518}, {\"x\": 0.4465822784810127, \"f(x)\": 25.12229861940655}, {\"x\": 0.4488607594936709, \"f(x)\": 24.716581746793942}, {\"x\": 0.45113924050632914, \"f(x)\": 23.82300995981986}, {\"x\": 0.45341772151898735, \"f(x)\": 22.49571416385584}, {\"x\": 0.45569620253164556, \"f(x)\": 20.811934285550937}, {\"x\": 0.4579746835443038, \"f(x)\": 18.86461908014458}, {\"x\": 0.460253164556962, \"f(x)\": 16.754012968698884}, {\"x\": 0.46253164556962023, \"f(x)\": 14.57927764982763}, {\"x\": 0.4648101265822785, \"f(x)\": 12.431099001112177}, {\"x\": 0.4670886075949367, \"f(x)\": 10.38599911332961}, {\"x\": 0.46936708860759496, \"f(x)\": 8.502762160694697}, {\"x\": 0.47164556962025317, \"f(x)\": 6.821052839287197}, {\"x\": 0.47392405063291143, \"f(x)\": 5.362014133765}, {\"x\": 0.47620253164556964, \"f(x)\": 4.130418608259898}, {\"x\": 0.47848101265822784, \"f(x)\": 3.117834553095171}, {\"x\": 0.4807594936708861, \"f(x)\": 2.3062540794219815}, {\"x\": 0.4830379746835443, \"f(x)\": 1.6716964923143014}, {\"x\": 0.4853164556962025, \"f(x)\": 1.1874187701793242}, {\"x\": 0.4875949367088608, \"f(x)\": 0.8265050191687303}, {\"x\": 0.48987341772151904, \"f(x)\": 0.5637414897143728}, {\"x\": 0.4921518987341772, \"f(x)\": 0.3767941358913304}, {\"x\": 0.49443037974683546, \"f(x)\": 0.24678202478804506}, {\"x\": 0.4967088607594937, \"f(x)\": 0.1583808557164967}, {\"x\": 0.4989873417721519, \"f(x)\": 0.09960130892312936}, {\"x\": 0.5012658227848101, \"f(x)\": 0.06137520159636644}, {\"x\": 0.5035443037974684, \"f(x)\": 0.03705762383772932}, {\"x\": 0.5058227848101267, \"f(x)\": 0.021923459177991204}, {\"x\": 0.5081012658227848, \"f(x)\": 0.012707978878217962}, {\"x\": 0.5103797468354431, \"f(x)\": 0.007217182563902264}, {\"x\": 0.5126582278481013, \"f(x)\": 0.004015776175377489}, {\"x\": 0.5149367088607595, \"f(x)\": 0.002189110021848807}, {\"x\": 0.5172151898734177, \"f(x)\": 0.0011690861727484815}, {\"x\": 0.519493670886076, \"f(x)\": 0.0006116313523721984}, {\"x\": 0.5217721518987342, \"f(x)\": 0.00031345813165145224}, {\"x\": 0.5240506329113924, \"f(x)\": 0.00015736099625963075}, {\"x\": 0.5263291139240507, \"f(x)\": 7.737887868392708e-05}, {\"x\": 0.5286075949367088, \"f(x)\": 3.726785716573564e-05}, {\"x\": 0.5308860759493671, \"f(x)\": 1.757967270186305e-05}, {\"x\": 0.5331645569620254, \"f(x)\": 8.121347103641647e-06}, {\"x\": 0.5354430379746835, \"f(x)\": 3.674190438765461e-06}, {\"x\": 0.5377215189873418, \"f(x)\": 1.6277426807663926e-06}, {\"x\": 0.54, \"f(x)\": 7.061115920780103e-07}], \"data-b9cb662b31c149c7d6b41c7b119085d7\": [{\"threshold\": 0.485}], \"data-da4d277671f21e1696173c923183b873\": [{\"x\": 0.485, \"y\": 12}]}}, {\"mode\": \"vega-lite\"});\n",
       "</script>"
      ],
      "text/plain": [
       "alt.LayerChart(...)"
      ]
     },
     "execution_count": 9,
     "metadata": {},
     "output_type": "execute_result"
    }
   ],
   "source": [
    "x = np.linspace(0.36,0.54,80)\n",
    "dist = beta(438,544)\n",
    "source = pd.DataFrame({'x':x, 'f(x)': dist.pdf(x)})\n",
    "pd_diag = alt.Chart(source).mark_line().encode(\n",
    "    x='x',\n",
    "    y='f(x)'\n",
    ")\n",
    "threshold = pd.DataFrame([{\"threshold\": 0.485}])\n",
    "\n",
    "rule = alt.Chart(threshold).mark_rule().encode(\n",
    "    x='threshold:Q'\n",
    ")\n",
    "\n",
    "text = alt.Chart({'values':[{'x': 0.485, 'y': 12}]}).mark_text(\n",
    "    text='Population proportion', angle=0\n",
    ").encode(\n",
    "    x='x:Q', y='y:Q'\n",
    ")\n",
    "(pd_diag + rule + text).properties(width = 600,height = 400,\n",
    "                           title=\"Beta distribution\")"
   ]
  }
 ],
 "metadata": {
  "kernelspec": {
   "display_name": "anaconda-panel-2023.05-py310",
   "language": "python",
   "name": "conda-env-anaconda-panel-2023.05-py310-py"
  },
  "language_info": {
   "codemirror_mode": {
    "name": "ipython",
    "version": 3
   },
   "file_extension": ".py",
   "mimetype": "text/x-python",
   "name": "python",
   "nbconvert_exporter": "python",
   "pygments_lexer": "ipython3",
   "version": "3.11.4"
  }
 },
 "nbformat": 4,
 "nbformat_minor": 5
}
